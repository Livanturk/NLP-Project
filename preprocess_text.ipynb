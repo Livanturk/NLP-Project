{
 "cells": [
  {
   "cell_type": "code",
   "execution_count": 1,
   "metadata": {},
   "outputs": [
    {
     "name": "stderr",
     "output_type": "stream",
     "text": [
      "[nltk_data] Downloading package reuters to\n",
      "[nltk_data]     C:\\Users\\Livan\\AppData\\Roaming\\nltk_data...\n",
      "[nltk_data]   Package reuters is already up-to-date!\n",
      "[nltk_data] Downloading package punkt_tab to\n",
      "[nltk_data]     C:\\Users\\Livan\\AppData\\Roaming\\nltk_data...\n",
      "[nltk_data]   Package punkt_tab is already up-to-date!\n",
      "[nltk_data] Downloading package punkt to\n",
      "[nltk_data]     C:\\Users\\Livan\\AppData\\Roaming\\nltk_data...\n",
      "[nltk_data]   Unzipping tokenizers\\punkt.zip.\n",
      "[nltk_data] Downloading package stopwords to\n",
      "[nltk_data]     C:\\Users\\Livan\\AppData\\Roaming\\nltk_data...\n",
      "[nltk_data]   Unzipping corpora\\stopwords.zip.\n",
      "[nltk_data] Downloading package wordnet to\n",
      "[nltk_data]     C:\\Users\\Livan\\AppData\\Roaming\\nltk_data...\n"
     ]
    }
   ],
   "source": [
    "import re\n",
    "import pandas as pd\n",
    "import nltk\n",
    "import string\n",
    "import spacy\n",
    "from nltk.corpus import stopwords, reuters\n",
    "from nltk.tokenize import word_tokenize\n",
    "from nltk.stem import PorterStemmer, WordNetLemmatizer\n",
    "\n",
    "nltk.download('reuters')\n",
    "nltk.download('punkt_tab')\n",
    "nltk.download('punkt', force=True)\n",
    "nltk.download('stopwords', force=True)\n",
    "nltk.download('wordnet', force=True)\n",
    "\n",
    "nlp = spacy.load(\"en_core_web_sm\")"
   ]
  },
  {
   "cell_type": "code",
   "execution_count": 2,
   "metadata": {},
   "outputs": [],
   "source": [
    "file_ids = reuters.fileids()\n",
    "data = []\n",
    "\n",
    "for file_id in file_ids:\n",
    "    text = reuters.raw(file_id)  # Article text\n",
    "    categories = reuters.categories(file_id)  # Article categories\n",
    "    data.append((file_id, text, \", \".join(categories)))  # Store in tuple format\n",
    "\n",
    "df = pd.DataFrame(data, columns=[\"File_ID\", \"Text\", \"Categories\"])"
   ]
  },
  {
   "cell_type": "markdown",
   "metadata": {},
   "source": [
    "Cleaning Text\n",
    "- Özel karakterleri, sayıları ve noktalama işaretlerini kaldırır.\n",
    "- Tüm metini küçük harflere çevirir\n",
    "- Boşlukları kaldırır"
   ]
  },
  {
   "cell_type": "code",
   "execution_count": 3,
   "metadata": {},
   "outputs": [],
   "source": [
    "def clean_text(text):\n",
    "    doc = nlp(text)\n",
    "\n",
    "    cleaned_tokens = []\n",
    "    for token in doc:\n",
    "        if token.ent_type_ in [\"GPE\", \"ORG\", \"PERSON\"]:  #Preserve named entities (e.g., countries, names)\n",
    "            cleaned_tokens.append(token.text)  #Keep original case\n",
    "        else:\n",
    "            cleaned_tokens.append(token.text.lower())  #Convert other words to lowercase\n",
    "\n",
    "    text = \" \".join(cleaned_tokens)\n",
    "    \n",
    "    text = re.sub(r'\\d+', '', text)  #Remove numbers\n",
    "    text = text.translate(str.maketrans('', '', string.punctuation))  #Remove punctuation\n",
    "    text = re.sub(r'\\s+', ' ', text).strip()  #Remove spaces\n",
    "\n",
    "    return text\n"
   ]
  },
  {
   "cell_type": "markdown",
   "metadata": {},
   "source": [
    "Tokenization ve Stopword Removal"
   ]
  },
  {
   "cell_type": "code",
   "execution_count": 4,
   "metadata": {},
   "outputs": [],
   "source": [
    "def tokenize_and_remove_stopwords(text):\n",
    "    stop_words = set(stopwords.words('english'))\n",
    "    tokens = word_tokenize(text)\n",
    "    filtered_tokens = [word for word in tokens if word not in stop_words] #Remove stopwords\n",
    "    return filtered_tokens"
   ]
  },
  {
   "cell_type": "markdown",
   "metadata": {},
   "source": [
    "Stemming ve Lemmatization"
   ]
  },
  {
   "cell_type": "code",
   "execution_count": 5,
   "metadata": {},
   "outputs": [],
   "source": [
    "def apply_stemming(tokens):\n",
    "    stemmer = PorterStemmer()\n",
    "    return [stemmer.stem(word) for word in tokens]\n",
    "\n",
    "\n",
    "def apply_lemmatization(tokens):\n",
    "    doc = nlp(\" \".join(tokens))\n",
    "    return [token.lemma_ for token in doc]"
   ]
  },
  {
   "cell_type": "markdown",
   "metadata": {},
   "source": [
    "Edit Distance\n",
    "- Yanlış yazılan kelimeleri en yakın olan kelimeye düzeltir"
   ]
  },
  {
   "cell_type": "code",
   "execution_count": 6,
   "metadata": {},
   "outputs": [],
   "source": [
    "from nltk.metrics import edit_distance\n",
    "\n",
    "def correct_typo(word, vocab):\n",
    "    closest_match = min(vocab, key=lambda x: edit_distance(word, x)) if word in vocab else word\n",
    "    return closest_match"
   ]
  },
  {
   "cell_type": "code",
   "execution_count": 7,
   "metadata": {},
   "outputs": [
    {
     "name": "stdout",
     "output_type": "stream",
     "text": [
      "Original Text:\n",
      " ASIAN EXPORTERS FEAR DAMAGE FROM U.S.-JAPAN RIFT\n",
      "  Mounting trade friction between the\n",
      "  U.S. And Japan has raised fears among many of Asia's exporting\n",
      "  nations that the row could inflict far-reaching economic\n",
      "  damage, businessmen and officials said.\n",
      "      They told Reuter correspondents in Asian capitals a U.S.\n",
      "  Move against Japan might boost protectionist sentiment in the\n",
      "  U.S. And lead to curbs on American imports of their products.\n",
      "      But some exporters said that while the conflict wo\n",
      "\n",
      "Cleaned Text:\n",
      " asian exporters fear damage from usjapan rift mounting trade friction between the US and Japan has raised fears among many of asia s exporting nations that the row could inflict far reaching economic damage businessmen and officials said they told Reuter correspondents in asian capitals a US move against Japan might boost protectionist sentiment in the US and lead to curbs on american imports of their products but some exporters said that while the conflict would hurt them in the long run in the short term Tokyo s loss might be their gain the US has said it will impose mln dlrs of tariffs on imports of japanese electronics goods on april in retaliation for Japan s alleged failure to stick to a pact not to sell semiconductors on world markets at below cost Unofficial japanese estimates put the impact of the tariffs at billion dlrs and spokesmen for major electronics firms said they would virtually halt exports of products hit by the new taxes we would nt be able to do business said a spokesman for leading japanese electronics firm Matsushita Electric Industrial Co Ltd ltmct if the tariffs remain in place for any length of time beyond a few months it will mean the complete erosion of exports of goods subject to tariffs to the US said Tom Murtha a stock analyst at the Tokyo office of broker ltjames capel and co in Taiwan businessmen and officials are also worried we are aware of the seriousness of the US threat against Japan because it serves as a warning to us said a senior taiwanese trade official who asked not to be named Taiwan had a trade trade surplus of billion dlrs last year pct of it with the US the surplus helped swell Taiwan s foreign exchange reserves to billion dlrs among the world s largest we must quickly open our markets remove trade barriers and cut import tariffs to allow imports of US Products if we want to defuse problems from possible US Retaliation said Paul Sheen chairman of textile exporters ltTaiwan Safe Group a senior official of South Korea s trade promotion association said the trade dispute between the US and Japan might also lead to pressure on South Korea whose chief exports are similar to those of Japan last year South Korea had a trade surplus of billion dlrs with the US up from billion dlrs in in Malaysia trade officers and businessmen said tough curbs against Japan might allow hard hit producers of semiconductors in third countries to expand their sales to the US in Hong Kong where newspapers have alleged Japan has been selling below cost semiconductors some electronics manufacturers share that view but other businessmen said such a short term commercial advantage would be outweighed by further US pressure to block imports that is a very short term view said Lawrence Mills director general of the Federation of Hong Kong Industry if the whole purpose is to prevent imports one day it will be extended to other sources much more serious for Hong Kong is the disadvantage of action restraining trade he said the US last year was Hong Kong s biggest export market accounting for over pct of domestically produced exports the australian government is awaiting the outcome of trade talks between the US and Japan with interest and concern industry minister John Button said in Canberra last friday this kind of deterioration in trade relations between two countries which are major trading partners of ours is a very serious matter Button said he said Australia s concerns centred on coal and beef Australia s two largest exports to Japan and also significant US exports to that country meanwhile usjapanese diplomatic manoeuvres to solve the trade stand off continue Japan s ruling Liberal Democratic Party yesterday outlined a package of economic measures to boost the japanese economy the measures proposed include a large supplementary budget and record public works spending in the first half of the financial year they also call for stepped up spending as an emergency measure to stimulate the economy despite prime minister yasuhiro nakasone s avowed fiscal reform program deputy US trade representative Michael Smith and Makoto Kuroda Japan s deputy minister of International Trade and Industry MITI are due to meet in Washington this week in an effort to end the dispute\n",
      "\n",
      "Tokenized (No Stopwords):\n",
      " ['asian', 'exporters', 'fear', 'damage', 'usjapan', 'rift', 'mounting', 'trade', 'friction', 'US', 'Japan', 'raised', 'fears', 'among', 'many', 'asia', 'exporting', 'nations', 'row', 'could', 'inflict', 'far', 'reaching', 'economic', 'damage', 'businessmen', 'officials', 'said', 'told', 'Reuter', 'correspondents', 'asian', 'capitals', 'US', 'move', 'Japan', 'might', 'boost', 'protectionist', 'sentiment', 'US', 'lead', 'curbs', 'american', 'imports', 'products', 'exporters', 'said', 'conflict', 'would', 'hurt', 'long', 'run', 'short', 'term', 'Tokyo', 'loss', 'might', 'gain', 'US', 'said', 'impose', 'mln', 'dlrs', 'tariffs', 'imports', 'japanese', 'electronics', 'goods', 'april', 'retaliation', 'Japan', 'alleged', 'failure', 'stick', 'pact', 'sell', 'semiconductors', 'world', 'markets', 'cost', 'Unofficial', 'japanese', 'estimates', 'put', 'impact', 'tariffs', 'billion', 'dlrs', 'spokesmen', 'major', 'electronics', 'firms', 'said', 'would', 'virtually', 'halt', 'exports', 'products', 'hit', 'new', 'taxes', 'would', 'nt', 'able', 'business', 'said', 'spokesman', 'leading', 'japanese', 'electronics', 'firm', 'Matsushita', 'Electric', 'Industrial', 'Co', 'Ltd', 'ltmct', 'tariffs', 'remain', 'place', 'length', 'time', 'beyond', 'months', 'mean', 'complete', 'erosion', 'exports', 'goods', 'subject', 'tariffs', 'US', 'said', 'Tom', 'Murtha', 'stock', 'analyst', 'Tokyo', 'office', 'broker', 'ltjames', 'capel', 'co', 'Taiwan', 'businessmen', 'officials', 'also', 'worried', 'aware', 'seriousness', 'US', 'threat', 'Japan', 'serves', 'warning', 'us', 'said', 'senior', 'taiwanese', 'trade', 'official', 'asked', 'named', 'Taiwan', 'trade', 'trade', 'surplus', 'billion', 'dlrs', 'last', 'year', 'pct', 'US', 'surplus', 'helped', 'swell', 'Taiwan', 'foreign', 'exchange', 'reserves', 'billion', 'dlrs', 'among', 'world', 'largest', 'must', 'quickly', 'open', 'markets', 'remove', 'trade', 'barriers', 'cut', 'import', 'tariffs', 'allow', 'imports', 'US', 'Products', 'want', 'defuse', 'problems', 'possible', 'US', 'Retaliation', 'said', 'Paul', 'Sheen', 'chairman', 'textile', 'exporters', 'ltTaiwan', 'Safe', 'Group', 'senior', 'official', 'South', 'Korea', 'trade', 'promotion', 'association', 'said', 'trade', 'dispute', 'US', 'Japan', 'might', 'also', 'lead', 'pressure', 'South', 'Korea', 'whose', 'chief', 'exports', 'similar', 'Japan', 'last', 'year', 'South', 'Korea', 'trade', 'surplus', 'billion', 'dlrs', 'US', 'billion', 'dlrs', 'Malaysia', 'trade', 'officers', 'businessmen', 'said', 'tough', 'curbs', 'Japan', 'might', 'allow', 'hard', 'hit', 'producers', 'semiconductors', 'third', 'countries', 'expand', 'sales', 'US', 'Hong', 'Kong', 'newspapers', 'alleged', 'Japan', 'selling', 'cost', 'semiconductors', 'electronics', 'manufacturers', 'share', 'view', 'businessmen', 'said', 'short', 'term', 'commercial', 'advantage', 'would', 'outweighed', 'US', 'pressure', 'block', 'imports', 'short', 'term', 'view', 'said', 'Lawrence', 'Mills', 'director', 'general', 'Federation', 'Hong', 'Kong', 'Industry', 'whole', 'purpose', 'prevent', 'imports', 'one', 'day', 'extended', 'sources', 'much', 'serious', 'Hong', 'Kong', 'disadvantage', 'action', 'restraining', 'trade', 'said', 'US', 'last', 'year', 'Hong', 'Kong', 'biggest', 'export', 'market', 'accounting', 'pct', 'domestically', 'produced', 'exports', 'australian', 'government', 'awaiting', 'outcome', 'trade', 'talks', 'US', 'Japan', 'interest', 'concern', 'industry', 'minister', 'John', 'Button', 'said', 'Canberra', 'last', 'friday', 'kind', 'deterioration', 'trade', 'relations', 'two', 'countries', 'major', 'trading', 'partners', 'serious', 'matter', 'Button', 'said', 'said', 'Australia', 'concerns', 'centred', 'coal', 'beef', 'Australia', 'two', 'largest', 'exports', 'Japan', 'also', 'significant', 'US', 'exports', 'country', 'meanwhile', 'usjapanese', 'diplomatic', 'manoeuvres', 'solve', 'trade', 'stand', 'continue', 'Japan', 'ruling', 'Liberal', 'Democratic', 'Party', 'yesterday', 'outlined', 'package', 'economic', 'measures', 'boost', 'japanese', 'economy', 'measures', 'proposed', 'include', 'large', 'supplementary', 'budget', 'record', 'public', 'works', 'spending', 'first', 'half', 'financial', 'year', 'also', 'call', 'stepped', 'spending', 'emergency', 'measure', 'stimulate', 'economy', 'despite', 'prime', 'minister', 'yasuhiro', 'nakasone', 'avowed', 'fiscal', 'reform', 'program', 'deputy', 'US', 'trade', 'representative', 'Michael', 'Smith', 'Makoto', 'Kuroda', 'Japan', 'deputy', 'minister', 'International', 'Trade', 'Industry', 'MITI', 'due', 'meet', 'Washington', 'week', 'effort', 'end', 'dispute']\n",
      "\n",
      "Stemmed Tokens:\n",
      " ['asian', 'export', 'fear', 'damag', 'usjapan', 'rift', 'mount', 'trade', 'friction', 'us', 'japan', 'rais', 'fear', 'among', 'mani', 'asia', 'export', 'nation', 'row', 'could', 'inflict', 'far', 'reach', 'econom', 'damag', 'businessmen', 'offici', 'said', 'told', 'reuter', 'correspond', 'asian', 'capit', 'us', 'move', 'japan', 'might', 'boost', 'protectionist', 'sentiment', 'us', 'lead', 'curb', 'american', 'import', 'product', 'export', 'said', 'conflict', 'would', 'hurt', 'long', 'run', 'short', 'term', 'tokyo', 'loss', 'might', 'gain', 'us', 'said', 'impos', 'mln', 'dlr', 'tariff', 'import', 'japanes', 'electron', 'good', 'april', 'retali', 'japan', 'alleg', 'failur', 'stick', 'pact', 'sell', 'semiconductor', 'world', 'market', 'cost', 'unoffici', 'japanes', 'estim', 'put', 'impact', 'tariff', 'billion', 'dlr', 'spokesmen', 'major', 'electron', 'firm', 'said', 'would', 'virtual', 'halt', 'export', 'product', 'hit', 'new', 'tax', 'would', 'nt', 'abl', 'busi', 'said', 'spokesman', 'lead', 'japanes', 'electron', 'firm', 'matsushita', 'electr', 'industri', 'co', 'ltd', 'ltmct', 'tariff', 'remain', 'place', 'length', 'time', 'beyond', 'month', 'mean', 'complet', 'eros', 'export', 'good', 'subject', 'tariff', 'us', 'said', 'tom', 'murtha', 'stock', 'analyst', 'tokyo', 'offic', 'broker', 'ltjame', 'capel', 'co', 'taiwan', 'businessmen', 'offici', 'also', 'worri', 'awar', 'serious', 'us', 'threat', 'japan', 'serv', 'warn', 'us', 'said', 'senior', 'taiwanes', 'trade', 'offici', 'ask', 'name', 'taiwan', 'trade', 'trade', 'surplu', 'billion', 'dlr', 'last', 'year', 'pct', 'us', 'surplu', 'help', 'swell', 'taiwan', 'foreign', 'exchang', 'reserv', 'billion', 'dlr', 'among', 'world', 'largest', 'must', 'quickli', 'open', 'market', 'remov', 'trade', 'barrier', 'cut', 'import', 'tariff', 'allow', 'import', 'us', 'product', 'want', 'defus', 'problem', 'possibl', 'us', 'retali', 'said', 'paul', 'sheen', 'chairman', 'textil', 'export', 'lttaiwan', 'safe', 'group', 'senior', 'offici', 'south', 'korea', 'trade', 'promot', 'associ', 'said', 'trade', 'disput', 'us', 'japan', 'might', 'also', 'lead', 'pressur', 'south', 'korea', 'whose', 'chief', 'export', 'similar', 'japan', 'last', 'year', 'south', 'korea', 'trade', 'surplu', 'billion', 'dlr', 'us', 'billion', 'dlr', 'malaysia', 'trade', 'offic', 'businessmen', 'said', 'tough', 'curb', 'japan', 'might', 'allow', 'hard', 'hit', 'produc', 'semiconductor', 'third', 'countri', 'expand', 'sale', 'us', 'hong', 'kong', 'newspap', 'alleg', 'japan', 'sell', 'cost', 'semiconductor', 'electron', 'manufactur', 'share', 'view', 'businessmen', 'said', 'short', 'term', 'commerci', 'advantag', 'would', 'outweigh', 'us', 'pressur', 'block', 'import', 'short', 'term', 'view', 'said', 'lawrenc', 'mill', 'director', 'gener', 'feder', 'hong', 'kong', 'industri', 'whole', 'purpos', 'prevent', 'import', 'one', 'day', 'extend', 'sourc', 'much', 'seriou', 'hong', 'kong', 'disadvantag', 'action', 'restrain', 'trade', 'said', 'us', 'last', 'year', 'hong', 'kong', 'biggest', 'export', 'market', 'account', 'pct', 'domest', 'produc', 'export', 'australian', 'govern', 'await', 'outcom', 'trade', 'talk', 'us', 'japan', 'interest', 'concern', 'industri', 'minist', 'john', 'button', 'said', 'canberra', 'last', 'friday', 'kind', 'deterior', 'trade', 'relat', 'two', 'countri', 'major', 'trade', 'partner', 'seriou', 'matter', 'button', 'said', 'said', 'australia', 'concern', 'centr', 'coal', 'beef', 'australia', 'two', 'largest', 'export', 'japan', 'also', 'signific', 'us', 'export', 'countri', 'meanwhil', 'usjapanes', 'diplomat', 'manoeuvr', 'solv', 'trade', 'stand', 'continu', 'japan', 'rule', 'liber', 'democrat', 'parti', 'yesterday', 'outlin', 'packag', 'econom', 'measur', 'boost', 'japanes', 'economi', 'measur', 'propos', 'includ', 'larg', 'supplementari', 'budget', 'record', 'public', 'work', 'spend', 'first', 'half', 'financi', 'year', 'also', 'call', 'step', 'spend', 'emerg', 'measur', 'stimul', 'economi', 'despit', 'prime', 'minist', 'yasuhiro', 'nakason', 'avow', 'fiscal', 'reform', 'program', 'deputi', 'us', 'trade', 'repres', 'michael', 'smith', 'makoto', 'kuroda', 'japan', 'deputi', 'minist', 'intern', 'trade', 'industri', 'miti', 'due', 'meet', 'washington', 'week', 'effort', 'end', 'disput']\n",
      "\n",
      "Lemmatized Tokens:\n",
      " ['asian', 'exporter', 'fear', 'damage', 'usjapan', 'rift', 'mount', 'trade', 'friction', 'US', 'Japan', 'raise', 'fear', 'among', 'many', 'asia', 'export', 'nation', 'row', 'could', 'inflict', 'far', 'reach', 'economic', 'damage', 'businessman', 'official', 'say', 'tell', 'Reuter', 'correspondent', 'asian', 'capital', 'US', 'move', 'Japan', 'might', 'boost', 'protectionist', 'sentiment', 'US', 'lead', 'curb', 'american', 'import', 'product', 'exporter', 'say', 'conflict', 'would', 'hurt', 'long', 'run', 'short', 'term', 'Tokyo', 'loss', 'might', 'gain', 'US', 'say', 'impose', 'mln', 'dlrs', 'tariff', 'import', 'japanese', 'electronic', 'good', 'april', 'retaliation', 'Japan', 'allege', 'failure', 'stick', 'pact', 'sell', 'semiconductor', 'world', 'market', 'cost', 'Unofficial', 'japanese', 'estimate', 'put', 'impact', 'tariff', 'billion', 'dlrs', 'spokesman', 'major', 'electronic', 'firm', 'say', 'would', 'virtually', 'halt', 'export', 'product', 'hit', 'new', 'taxis', 'would', 'not', 'able', 'business', 'say', 'spokesman', 'lead', 'japanese', 'electronic', 'firm', 'Matsushita', 'Electric', 'Industrial', 'Co', 'Ltd', 'ltmct', 'tariff', 'remain', 'place', 'length', 'time', 'beyond', 'month', 'mean', 'complete', 'erosion', 'export', 'good', 'subject', 'tariff', 'US', 'say', 'Tom', 'Murtha', 'stock', 'analyst', 'Tokyo', 'office', 'broker', 'ltjame', 'capel', 'co', 'Taiwan', 'businessman', 'official', 'also', 'worry', 'aware', 'seriousness', 'US', 'threat', 'Japan', 'serve', 'warn', 'we', 'say', 'senior', 'taiwanese', 'trade', 'official', 'ask', 'name', 'Taiwan', 'trade', 'trade', 'surplus', 'billion', 'dlrs', 'last', 'year', 'pct', 'US', 'surplus', 'helped', 'swell', 'Taiwan', 'foreign', 'exchange', 'reserve', 'billion', 'dlrs', 'among', 'world', 'large', 'must', 'quickly', 'open', 'market', 'remove', 'trade', 'barrier', 'cut', 'import', 'tariff', 'allow', 'import', 'US', 'Products', 'want', 'defuse', 'problem', 'possible', 'US', 'retaliation', 'say', 'Paul', 'Sheen', 'chairman', 'textile', 'exporter', 'ltTaiwan', 'Safe', 'Group', 'senior', 'official', 'South', 'Korea', 'trade', 'promotion', 'association', 'say', 'trade', 'dispute', 'US', 'Japan', 'might', 'also', 'lead', 'pressure', 'South', 'Korea', 'whose', 'chief', 'export', 'similar', 'Japan', 'last', 'year', 'South', 'Korea', 'trade', 'surplus', 'billion', 'dlrs', 'US', 'billion', 'dlrs', 'Malaysia', 'trade', 'officer', 'businessman', 'say', 'tough', 'curb', 'Japan', 'might', 'allow', 'hard', 'hit', 'producer', 'semiconductor', 'third', 'country', 'expand', 'sale', 'US', 'Hong', 'Kong', 'newspaper', 'allege', 'Japan', 'sell', 'cost', 'semiconductor', 'electronic', 'manufacturer', 'share', 'view', 'businessman', 'say', 'short', 'term', 'commercial', 'advantage', 'would', 'outweigh', 'US', 'pressure', 'block', 'import', 'short', 'term', 'view', 'say', 'Lawrence', 'Mills', 'director', 'general', 'Federation', 'Hong', 'Kong', 'Industry', 'whole', 'purpose', 'prevent', 'import', 'one', 'day', 'extend', 'source', 'much', 'serious', 'Hong', 'Kong', 'disadvantage', 'action', 'restrain', 'trade', 'say', 'US', 'last', 'year', 'Hong', 'Kong', 'big', 'export', 'market', 'accounting', 'pct', 'domestically', 'produce', 'export', 'australian', 'government', 'await', 'outcome', 'trade', 'talk', 'US', 'Japan', 'interest', 'concern', 'industry', 'minister', 'John', 'Button', 'say', 'Canberra', 'last', 'friday', 'kind', 'deterioration', 'trade', 'relation', 'two', 'country', 'major', 'trading', 'partner', 'serious', 'matter', 'Button', 'say', 'say', 'Australia', 'concern', 'centre', 'coal', 'beef', 'Australia', 'two', 'large', 'export', 'Japan', 'also', 'significant', 'US', 'export', 'country', 'meanwhile', 'usjapanese', 'diplomatic', 'manoeuvre', 'solve', 'trade', 'stand', 'continue', 'Japan', 'rule', 'Liberal', 'Democratic', 'Party', 'yesterday', 'outline', 'package', 'economic', 'measure', 'boost', 'japanese', 'economy', 'measure', 'propose', 'include', 'large', 'supplementary', 'budget', 'record', 'public', 'work', 'spend', 'first', 'half', 'financial', 'year', 'also', 'call', 'step', 'spend', 'emergency', 'measure', 'stimulate', 'economy', 'despite', 'prime', 'minister', 'yasuhiro', 'nakasone', 'avow', 'fiscal', 'reform', 'program', 'deputy', 'US', 'trade', 'representative', 'Michael', 'Smith', 'Makoto', 'Kuroda', 'Japan', 'deputy', 'minister', 'International', 'Trade', 'Industry', 'MITI', 'due', 'meet', 'Washington', 'week', 'effort', 'end', 'dispute']\n"
     ]
    }
   ],
   "source": [
    "sample_text = df['Text'].iloc[0]\n",
    "\n",
    "cleaned_text = clean_text(sample_text)\n",
    "tokens = tokenize_and_remove_stopwords(cleaned_text)\n",
    "stemmed_tokens = apply_stemming(tokens)\n",
    "lemmatized_tokens = apply_lemmatization(tokens)\n",
    "\n",
    "print(\"Original Text:\\n\", sample_text[:500])  # Show first 500 chars\n",
    "print(\"\\nCleaned Text:\\n\", cleaned_text)\n",
    "print(\"\\nTokenized (No Stopwords):\\n\", tokens)\n",
    "print(\"\\nStemmed Tokens:\\n\", stemmed_tokens)\n",
    "print(\"\\nLemmatized Tokens:\\n\", lemmatized_tokens)"
   ]
  },
  {
   "cell_type": "markdown",
   "metadata": {},
   "source": [
    "Tokenization ve N-grams"
   ]
  },
  {
   "cell_type": "code",
   "execution_count": 8,
   "metadata": {},
   "outputs": [],
   "source": [
    "from nltk.util import ngrams\n",
    "from collections import Counter"
   ]
  },
  {
   "cell_type": "code",
   "execution_count": 9,
   "metadata": {},
   "outputs": [],
   "source": [
    "def extract_ngrams(tokens, n = 2):\n",
    "    n_grams = list(ngrams(tokens, n))\n",
    "    return [\" \".join(gram) for gram in n_grams]\n"
   ]
  },
  {
   "cell_type": "code",
   "execution_count": 10,
   "metadata": {},
   "outputs": [
    {
     "name": "stdout",
     "output_type": "stream",
     "text": [
      "\n",
      "Sample Bigrams:\n",
      " ['asian exporters', 'exporters fear', 'fear damage', 'damage usjapan', 'usjapan rift', 'rift mounting', 'mounting trade', 'trade friction', 'friction US', 'US Japan']\n",
      "\n",
      "Sample Trigrams:\n",
      " ['asian exporters fear', 'exporters fear damage', 'fear damage usjapan', 'damage usjapan rift', 'usjapan rift mounting', 'rift mounting trade', 'mounting trade friction', 'trade friction US', 'friction US Japan', 'US Japan raised']\n"
     ]
    }
   ],
   "source": [
    "sample_tokens = tokenize_and_remove_stopwords(clean_text(df[\"Text\"].iloc[0])) \n",
    "bigrams = extract_ngrams(sample_tokens, 2)\n",
    "trigrams = extract_ngrams(sample_tokens, 3)\n",
    "\n",
    "print(\"\\nSample Bigrams:\\n\", bigrams[:10])\n",
    "print(\"\\nSample Trigrams:\\n\", trigrams[:10])\n"
   ]
  },
  {
   "cell_type": "code",
   "execution_count": 11,
   "metadata": {},
   "outputs": [
    {
     "name": "stdout",
     "output_type": "stream",
     "text": [
      "      File_ID                                               Text  \\\n",
      "0  test/14826  ASIAN EXPORTERS FEAR DAMAGE FROM U.S.-JAPAN RI...   \n",
      "1  test/14828  CHINA DAILY SAYS VERMIN EAT 7-12 PCT GRAIN STO...   \n",
      "2  test/14829  JAPAN TO REVISE LONG-TERM ENERGY DEMAND DOWNWA...   \n",
      "3  test/14832  THAI TRADE DEFICIT WIDENS IN FIRST QUARTER\\n  ...   \n",
      "4  test/14833  INDONESIA SEES CPO PRICE RISING SHARPLY\\n  Ind...   \n",
      "\n",
      "                                     Categories  \\\n",
      "0                                         trade   \n",
      "1                                         grain   \n",
      "2                                crude, nat-gas   \n",
      "3  corn, grain, rice, rubber, sugar, tin, trade   \n",
      "4                             palm-oil, veg-oil   \n",
      "\n",
      "                                        Cleaned_Text  \n",
      "0  asian exporters fear damage from usjapan rift ...  \n",
      "1  CHINA DAILY says VERMIN EAT pct grain stocks a...  \n",
      "2  JAPAN to revise long term energy demand downwa...  \n",
      "3  thai trade deficit widens in first quarter Tha...  \n",
      "4  indonesia sees cpo price rising sharply Indone...  \n"
     ]
    }
   ],
   "source": [
    "df[\"Cleaned_Text\"] = df[\"Text\"].apply(clean_text)\n",
    "\n",
    "print(df.head())"
   ]
  },
  {
   "cell_type": "markdown",
   "metadata": {},
   "source": [
    "TF-IDF Vectors\n",
    "- Textleri sayılar değerlere convert eder"
   ]
  },
  {
   "cell_type": "code",
   "execution_count": 12,
   "metadata": {},
   "outputs": [
    {
     "name": "stdout",
     "output_type": "stream",
     "text": [
      "\n",
      "TF-IDF DataFrame:\n",
      "     ab  ability  ability to      able   able to  about  about billion  \\\n",
      "0  0.0      0.0         0.0  0.026051  0.026152    0.0            0.0   \n",
      "1  0.0      0.0         0.0  0.000000  0.000000    0.0            0.0   \n",
      "2  0.0      0.0         0.0  0.000000  0.000000    0.0            0.0   \n",
      "3  0.0      0.0         0.0  0.000000  0.000000    0.0            0.0   \n",
      "4  0.0      0.0         0.0  0.000000  0.000000    0.0            0.0   \n",
      "\n",
      "   about dlrs  about mln  about one  ...  yield  yields  york  you   yr  \\\n",
      "0         0.0        0.0        0.0  ...    0.0     0.0   0.0  0.0  0.0   \n",
      "1         0.0        0.0        0.0  ...    0.0     0.0   0.0  0.0  0.0   \n",
      "2         0.0        0.0        0.0  ...    0.0     0.0   0.0  0.0  0.0   \n",
      "3         0.0        0.0        0.0  ...    0.0     0.0   0.0  0.0  0.0   \n",
      "4         0.0        0.0        0.0  ...    0.0     0.0   0.0  0.0  0.0   \n",
      "\n",
      "   zambia  zealand  zero  zinc  zone  \n",
      "0     0.0      0.0   0.0   0.0   0.0  \n",
      "1     0.0      0.0   0.0   0.0   0.0  \n",
      "2     0.0      0.0   0.0   0.0   0.0  \n",
      "3     0.0      0.0   0.0   0.0   0.0  \n",
      "4     0.0      0.0   0.0   0.0   0.0  \n",
      "\n",
      "[5 rows x 5000 columns]\n"
     ]
    }
   ],
   "source": [
    "from sklearn.feature_extraction.text import TfidfVectorizer\n",
    "\n",
    "vectorizer = TfidfVectorizer(max_features = 5000, ngram_range = (1, 2))\n",
    "X_tfidf = vectorizer.fit_transform(df[\"Cleaned_Text\"])\n",
    "tfidf_df = pd.DataFrame(X_tfidf.todense(), columns=vectorizer.get_feature_names_out())\n",
    "print(\"\\nTF-IDF DataFrame:\\n\", tfidf_df.head())"
   ]
  },
  {
   "cell_type": "markdown",
   "metadata": {},
   "source": [
    "Encoding Categories"
   ]
  },
  {
   "cell_type": "code",
   "execution_count": 13,
   "metadata": {},
   "outputs": [
    {
     "name": "stdout",
     "output_type": "stream",
     "text": [
      "\n",
      "Category Mapping:\n",
      " {0: 0, 1: 1, 2: 2, 3: 3, 4: 4, 5: 5, 6: 6, 7: 7, 8: 8, 9: 9, 10: 10, 11: 11, 12: 12, 13: 13, 14: 14, 15: 15, 16: 16, 17: 17, 18: 18, 19: 19, 20: 20, 21: 21, 22: 22, 23: 23, 24: 24, 25: 25, 26: 26, 27: 27, 28: 28, 29: 29, 30: 30, 31: 31, 32: 32, 33: 33, 34: 34, 35: 35, 36: 36, 37: 37, 38: 38, 39: 39, 40: 40, 41: 41, 42: 42, 43: 43, 44: 44, 45: 45, 46: 46, 47: 47, 48: 48, 49: 49, 50: 50, 51: 51, 52: 52, 53: 53, 54: 54, 55: 55, 56: 56, 57: 57, 58: 58, 59: 59, 60: 60, 61: 61, 62: 62, 63: 63, 64: 64, 65: 65, 66: 66, 67: 67, 68: 68, 69: 69, 70: 70, 71: 71, 72: 72, 73: 73, 74: 74, 75: 75, 76: 76, 77: 77, 78: 78, 79: 79, 80: 80, 81: 81, 82: 82, 83: 83, 84: 84, 85: 85, 86: 86, 87: 87, 88: 88, 89: 89, 90: 90, 91: 91, 92: 92, 93: 93, 94: 94, 95: 95, 96: 96, 97: 97, 98: 98, 99: 99, 100: 100, 101: 101, 102: 102, 103: 103, 104: 104, 105: 105, 106: 106, 107: 107, 108: 108, 109: 109, 110: 110, 111: 111, 112: 112, 113: 113, 114: 114, 115: 115, 116: 116, 117: 117, 118: 118, 119: 119, 120: 120, 121: 121, 122: 122, 123: 123, 124: 124, 125: 125, 126: 126, 127: 127, 128: 128, 129: 129, 130: 130, 131: 131, 132: 132, 133: 133, 134: 134, 135: 135, 136: 136, 137: 137, 138: 138, 139: 139, 140: 140, 141: 141, 142: 142, 143: 143, 144: 144, 145: 145, 146: 146, 147: 147, 148: 148, 149: 149, 150: 150, 151: 151, 152: 152, 153: 153, 154: 154, 155: 155, 156: 156, 157: 157, 158: 158, 159: 159, 160: 160, 161: 161, 162: 162, 163: 163, 164: 164, 165: 165, 166: 166, 167: 167, 168: 168, 169: 169, 170: 170, 171: 171, 172: 172, 173: 173, 174: 174, 175: 175, 176: 176, 177: 177, 178: 178, 179: 179, 180: 180, 181: 181, 182: 182, 183: 183, 184: 184, 185: 185, 186: 186, 187: 187, 188: 188, 189: 189, 190: 190, 191: 191, 192: 192, 193: 193, 194: 194, 195: 195, 196: 196, 197: 197, 198: 198, 199: 199, 200: 200, 201: 201, 202: 202, 203: 203, 204: 204, 205: 205, 206: 206, 207: 207, 208: 208, 209: 209, 210: 210, 211: 211, 212: 212, 213: 213, 214: 214, 215: 215, 216: 216, 217: 217, 218: 218, 219: 219, 220: 220, 221: 221, 222: 222, 223: 223, 224: 224, 225: 225, 226: 226, 227: 227, 228: 228, 229: 229, 230: 230, 231: 231, 232: 232, 233: 233, 234: 234, 235: 235, 236: 236, 237: 237, 238: 238, 239: 239, 240: 240, 241: 241, 242: 242, 243: 243, 244: 244, 245: 245, 246: 246, 247: 247, 248: 248, 249: 249, 250: 250, 251: 251, 252: 252, 253: 253, 254: 254, 255: 255, 256: 256, 257: 257, 258: 258, 259: 259, 260: 260, 261: 261, 262: 262, 263: 263, 264: 264, 265: 265, 266: 266, 267: 267, 268: 268, 269: 269, 270: 270, 271: 271, 272: 272, 273: 273, 274: 274, 275: 275, 276: 276, 277: 277, 278: 278, 279: 279, 280: 280, 281: 281, 282: 282, 283: 283, 284: 284, 285: 285, 286: 286, 287: 287, 288: 288, 289: 289, 290: 290, 291: 291, 292: 292, 293: 293, 294: 294, 295: 295, 296: 296, 297: 297, 298: 298, 299: 299, 300: 300, 301: 301, 302: 302, 303: 303, 304: 304, 305: 305, 306: 306, 307: 307, 308: 308, 309: 309, 310: 310, 311: 311, 312: 312, 313: 313, 314: 314, 315: 315, 316: 316, 317: 317, 318: 318, 319: 319, 320: 320, 321: 321, 322: 322, 323: 323, 324: 324, 325: 325, 326: 326, 327: 327, 328: 328, 329: 329, 330: 330, 331: 331, 332: 332, 333: 333, 334: 334, 335: 335, 336: 336, 337: 337, 338: 338, 339: 339, 340: 340, 341: 341, 342: 342, 343: 343, 344: 344, 345: 345, 346: 346, 347: 347, 348: 348, 349: 349, 350: 350, 351: 351, 352: 352, 353: 353, 354: 354, 355: 355, 356: 356, 357: 357, 358: 358, 359: 359, 360: 360, 361: 361, 362: 362, 363: 363, 364: 364, 365: 365, 366: 366, 367: 367, 368: 368, 369: 369, 370: 370, 371: 371, 372: 372, 373: 373, 374: 374, 375: 375, 376: 376, 377: 377, 378: 378, 379: 379, 380: 380, 381: 381, 382: 382, 383: 383, 384: 384, 385: 385, 386: 386, 387: 387, 388: 388, 389: 389, 390: 390, 391: 391, 392: 392, 393: 393, 394: 394, 395: 395, 396: 396, 397: 397, 398: 398, 399: 399, 400: 400, 401: 401, 402: 402, 403: 403, 404: 404, 405: 405, 406: 406, 407: 407, 408: 408, 409: 409, 410: 410, 411: 411, 412: 412, 413: 413, 414: 414, 415: 415, 416: 416, 417: 417, 418: 418, 419: 419, 420: 420, 421: 421, 422: 422, 423: 423, 424: 424, 425: 425, 426: 426, 427: 427, 428: 428, 429: 429, 430: 430, 431: 431, 432: 432, 433: 433, 434: 434, 435: 435, 436: 436, 437: 437, 438: 438, 439: 439, 440: 440, 441: 441, 442: 442, 443: 443, 444: 444, 445: 445, 446: 446, 447: 447, 448: 448, 449: 449, 450: 450, 451: 451, 452: 452, 453: 453, 454: 454, 455: 455, 456: 456, 457: 457, 458: 458, 459: 459, 460: 460, 461: 461, 462: 462, 463: 463, 464: 464, 465: 465, 466: 466, 467: 467}\n"
     ]
    }
   ],
   "source": [
    "from sklearn.preprocessing import LabelEncoder\n",
    "\n",
    "label_encoder = LabelEncoder()\n",
    "df[\"Category_Label\"] = label_encoder.fit_transform(df[\"Categories\"])\n",
    "\n",
    "label_mapping = dict(zip(label_encoder.transform(label_encoder.classes_), label_encoder.transform(label_encoder.classes_)))\n",
    "print(\"\\nCategory Mapping:\\n\", label_mapping)"
   ]
  },
  {
   "cell_type": "code",
   "execution_count": 14,
   "metadata": {},
   "outputs": [
    {
     "name": "stdout",
     "output_type": "stream",
     "text": [
      "\n",
      "Training Set Shape: (8630, 5000)\n",
      "Testing Set Shape: (2158, 5000)\n"
     ]
    }
   ],
   "source": [
    "from sklearn.model_selection import train_test_split\n",
    "\n",
    "X = X_tfidf\n",
    "y = df[\"Category_Label\"]\n",
    "\n",
    "X_train, X_test, y_train, y_test = train_test_split(X, y, test_size=0.2, random_state=42)\n",
    "\n",
    "print(\"\\nTraining Set Shape:\", X_train.shape)\n",
    "print(\"Testing Set Shape:\", X_test.shape)"
   ]
  },
  {
   "cell_type": "code",
   "execution_count": 17,
   "metadata": {},
   "outputs": [],
   "source": [
    "from sklearn.naive_bayes import MultinomialNB\n",
    "\n",
    "nb_classifier = MultinomialNB()\n",
    "nb_classifier.fit(X_train, y_train)\n",
    "\n",
    "y_pred = nb_classifier.predict(X_test)"
   ]
  },
  {
   "cell_type": "code",
   "execution_count": null,
   "metadata": {},
   "outputs": [
    {
     "name": "stdout",
     "output_type": "stream",
     "text": [
      "\n",
      "Accuracy: 0.7025\n",
      "\n",
      "Classification Report:\n",
      "                                                                                      precision    recall  f1-score   support\n",
      "\n",
      "                                                                                acq       0.66      1.00      0.80       452\n",
      "                                                                         acq, crude       0.00      0.00      0.00         4\n",
      "                                                                acq, crude, nat-gas       0.00      0.00      0.00         4\n",
      "                                                                          acq, earn       0.00      0.00      0.00         5\n",
      "                                                                     acq, livestock       0.00      0.00      0.00         1\n",
      "                                                                      acq, pet-chem       0.00      0.00      0.00         2\n",
      "                                                                         acq, trade       0.00      0.00      0.00         1\n",
      "                                                                               alum       0.00      0.00      0.00         6\n",
      "                                                       alum, palm-oil, tin, veg-oil       0.00      0.00      0.00         1\n",
      "                                                                barley, corn, grain       0.00      0.00      0.00         1\n",
      "                                                         barley, corn, grain, wheat       0.00      0.00      0.00         2\n",
      "                                                                      barley, grain       0.00      0.00      0.00         2\n",
      "                                                               barley, grain, wheat       0.00      0.00      0.00         1\n",
      "                                                                                bop       0.00      0.00      0.00         3\n",
      "                                                                   bop, coffee, gnp       0.00      0.00      0.00         1\n",
      "                                                                bop, cpi, gnp, jobs       0.00      0.00      0.00         1\n",
      "                                                               bop, dlr, gnp, trade       0.00      0.00      0.00         1\n",
      "                                                                           bop, gnp       0.00      0.00      0.00         1\n",
      "                                                                     bop, gnp, jobs       0.00      0.00      0.00         1\n",
      "                                                     bop, interest, money-fx, trade       0.00      0.00      0.00         1\n",
      "                                                                         bop, trade       0.00      0.00      0.00        11\n",
      "                                                                            carcass       0.00      0.00      0.00         2\n",
      "                               carcass, corn, cotton, grain, oilseed, rice, soybean       0.00      0.00      0.00         1\n",
      "                     carcass, corn, grain, livestock, oilseed, rice, soybean, trade       0.00      0.00      0.00         1\n",
      "                                                            carcass, hog, livestock       0.00      0.00      0.00         1\n",
      "                                                                 carcass, livestock       0.00      0.00      0.00         9\n",
      "                                                       carcass, orange, rice, trade       0.00      0.00      0.00         1\n",
      "                                             castor-oil, coffee, cotton, tea, trade       0.00      0.00      0.00         1\n",
      "                                                       castor-oil, oilseed, veg-oil       0.00      0.00      0.00         1\n",
      "                                                                              cocoa       1.00      0.69      0.81        16\n",
      "                                                               cocoa, coffee, sugar       0.00      0.00      0.00         1\n",
      "                                                                             coffee       1.00      0.76      0.86        21\n",
      "                                                                      coffee, crude       0.00      0.00      0.00         1\n",
      "                                                    coffee, palm-oil, rubber, trade       0.00      0.00      0.00         1\n",
      "                                                                       coffee, ship       0.00      0.00      0.00         1\n",
      "                                                                      coffee, trade       0.00      0.00      0.00         1\n",
      "                                                                             copper       0.00      0.00      0.00         7\n",
      "                                                   copper, gold, lead, silver, zinc       0.00      0.00      0.00         1\n",
      "                                          copper, gold, nickel, palladium, platinum       0.00      0.00      0.00         1\n",
      "corn, cotton, grain, meal-feed, oilseed, soy-meal, soy-oil, soybean, veg-oil, wheat       0.00      0.00      0.00         1\n",
      "                                                                        corn, grain       0.67      0.23      0.34        26\n",
      "                                              corn, grain, groundnut, oilseed, rice       0.00      0.00      0.00         1\n",
      "                                                 corn, grain, oat, oilseed, soybean       0.00      0.00      0.00         1\n",
      "                                    corn, grain, oilseed, sorghum, soybean, sunseed       0.00      0.00      0.00         1\n",
      "                             corn, grain, oilseed, sorghum, soybean, sunseed, wheat       0.00      0.00      0.00         1\n",
      "                                                      corn, grain, oilseed, soybean       0.00      0.00      0.00         1\n",
      "                                               corn, grain, oilseed, soybean, wheat       0.00      0.00      0.00         5\n",
      "                                                                  corn, grain, rice       0.00      0.00      0.00         2\n",
      "                                       corn, grain, rice, rubber, sugar, tin, trade       0.00      0.00      0.00         1\n",
      "                                                                  corn, grain, ship       0.00      0.00      0.00         1\n",
      "                                                               corn, grain, sorghum       0.00      0.00      0.00         1\n",
      "                                                                 corn, grain, sugar       0.00      0.00      0.00         1\n",
      "                                                        corn, grain, veg-oil, wheat       0.00      0.00      0.00         1\n",
      "                                                                 corn, grain, wheat       0.00      0.00      0.00         4\n",
      "                                                                             cotton       0.00      0.00      0.00         5\n",
      "                                              cotton, grain, oilseed, rice, soybean       0.00      0.00      0.00         1\n",
      "                                                         cotton, grain, rice, wheat       0.00      0.00      0.00         2\n",
      "                                                                                cpi       0.53      0.57      0.55        14\n",
      "                                                 cpi, crude, heat, nat-gas, propane       0.00      0.00      0.00         1\n",
      "                                                                           cpi, gnp       0.00      0.00      0.00         2\n",
      "                                                          cpi, gnp, grain, reserves       0.00      0.00      0.00         1\n",
      "                                                      cpi, gnp, jobs, retail, trade       0.00      0.00      0.00         1\n",
      "                                                                                cpu       0.00      0.00      0.00         1\n",
      "                                                                              crude       0.34      0.89      0.50        63\n",
      "                                                               crude, earn, nat-gas       0.00      0.00      0.00         2\n",
      "                                                               crude, fuel, naphtha       0.00      0.00      0.00         1\n",
      "                                                                         crude, gas       0.00      0.00      0.00         1\n",
      "                                                                     crude, nat-gas       0.00      0.00      0.00        14\n",
      "                                                                        crude, ship       0.00      0.00      0.00        15\n",
      "                                                                 dlr, dmk, money-fx       0.00      0.00      0.00         1\n",
      "                                                                      dlr, interest       0.00      0.00      0.00         1\n",
      "                                                            dlr, interest, money-fx       0.00      0.00      0.00         2\n",
      "                                                                      dlr, money-fx       0.78      0.37      0.50        19\n",
      "                                                               dlr, money-fx, trade       0.00      0.00      0.00         1\n",
      "                                                                 dlr, money-fx, yen       0.00      0.00      0.00         9\n",
      "                                                                               earn       0.95      0.92      0.93       778\n",
      "                                                                   earn, iron-steel       0.00      0.00      0.00         1\n",
      "                                                                         earn, ship       0.00      0.00      0.00         1\n",
      "                                                           fuel, heat, jet, naphtha       0.00      0.00      0.00         1\n",
      "                                                                 gas, heat, propane       0.00      0.00      0.00         1\n",
      "                                                                          gas, lead       0.00      0.00      0.00         1\n",
      "                                                                                gnp       1.00      0.11      0.19        19\n",
      "                                                             gnp, housing, interest       0.00      0.00      0.00         1\n",
      "                                                                      gnp, interest       0.00      0.00      0.00         1\n",
      "                                                            gnp, interest, money-fx       0.00      0.00      0.00         1\n",
      "                                                                          gnp, jobs       0.00      0.00      0.00         1\n",
      "                                                                  gnp, money-supply       0.00      0.00      0.00         1\n",
      "                                                                         gnp, trade       0.00      0.00      0.00         1\n",
      "                                                                               gold       1.00      0.18      0.30        28\n",
      "                                                                       gold, silver       0.00      0.00      0.00         3\n",
      "                                                                              grain       0.00      0.00      0.00        11\n",
      "                                                          grain, meal-feed, oilseed       0.00      0.00      0.00         1\n",
      "                                                               grain, oilseed, ship       0.00      0.00      0.00         1\n",
      "                                                     grain, oilseed, sunseed, wheat       0.00      0.00      0.00         1\n",
      "                                                              grain, oilseed, trade       0.00      0.00      0.00         1\n",
      "                                                                        grain, rice       0.00      0.00      0.00         6\n",
      "                                                                 grain, rice, sugar       0.00      0.00      0.00         2\n",
      "                                                                 grain, rice, wheat       0.00      0.00      0.00         1\n",
      "                                                                        grain, ship       0.00      0.00      0.00         3\n",
      "                                                                 grain, ship, wheat       0.00      0.00      0.00         2\n",
      "                                                                       grain, wheat       0.49      0.69      0.57        39\n",
      "                                                                               heat       0.00      0.00      0.00         5\n",
      "                                                           hog, l-cattle, livestock       0.00      0.00      0.00         1\n",
      "                                                                     hog, livestock       0.00      0.00      0.00         4\n",
      "                                                                            housing       0.00      0.00      0.00         2\n",
      "                                                                             income       0.00      0.00      0.00         3\n",
      "                                                                           interest       0.79      0.66      0.72        67\n",
      "                                                                 interest, money-fx       0.63      0.46      0.53        37\n",
      "                                                             interest, money-supply       0.00      0.00      0.00         1\n",
      "                                                                                ipi       0.00      0.00      0.00         8\n",
      "                                                                         iron-steel       0.00      0.00      0.00         3\n",
      "                                                                                jet       0.00      0.00      0.00         2\n",
      "                                                                               jobs       1.00      0.14      0.25         7\n",
      "                                                                        jobs, trade       0.00      0.00      0.00         2\n",
      "                                                                               lead       0.00      0.00      0.00         2\n",
      "                                                                         lead, zinc       0.00      0.00      0.00         1\n",
      "                                                                                lei       0.00      0.00      0.00         1\n",
      "                                                                          livestock       0.00      0.00      0.00         3\n",
      "                                                                   livestock, sugar       0.00      0.00      0.00         1\n",
      "                                                                             lumber       0.00      0.00      0.00         2\n",
      "                                                                          meal-feed       0.00      0.00      0.00         2\n",
      "                                                                meal-feed, soy-meal       0.00      0.00      0.00         1\n",
      "                                                      meal-feed, soy-meal, sun-meal       0.00      0.00      0.00         1\n",
      "                                                                           money-fx       0.37      0.78      0.50        54\n",
      "                                                                    money-fx, nzdlr       0.00      0.00      0.00         1\n",
      "                                                                     money-fx, rand       0.00      0.00      0.00         2\n",
      "                                                                    money-fx, trade       0.00      0.00      0.00         4\n",
      "                                                                      money-fx, yen       0.00      0.00      0.00         1\n",
      "                                                                       money-supply       0.71      0.81      0.76        31\n",
      "                                                                  money-supply, wpi       0.00      0.00      0.00         1\n",
      "                                                                            nat-gas       0.00      0.00      0.00         9\n",
      "                                                                  nat-gas, pet-chem       0.00      0.00      0.00         1\n",
      "                                                                             nickel       0.00      0.00      0.00         1\n",
      "                                                                              nzdlr       0.00      0.00      0.00         1\n",
      "                                                                            oilseed       0.00      0.00      0.00         1\n",
      "                                                                  oilseed, rapeseed       0.00      0.00      0.00         2\n",
      "                                                                   oilseed, soybean       0.00      0.00      0.00         3\n",
      "                                                                             orange       0.00      0.00      0.00         7\n",
      "                                                                        orange, tea       0.00      0.00      0.00         1\n",
      "                                                            palm-oil, ship, veg-oil       0.00      0.00      0.00         1\n",
      "                                                                  palm-oil, veg-oil       0.00      0.00      0.00         6\n",
      "                                                                           pet-chem       0.00      0.00      0.00         5\n",
      "                                                                           platinum       0.00      0.00      0.00         2\n",
      "                                                                               rand       0.00      0.00      0.00         1\n",
      "                                                                           reserves       0.00      0.00      0.00        12\n",
      "                                                                             retail       0.00      0.00      0.00         4\n",
      "                                                                             rubber       0.00      0.00      0.00        10\n",
      "                                                                               ship       0.70      0.21      0.33        33\n",
      "                                                                        ship, sugar       0.00      0.00      0.00         2\n",
      "                                                                   soybean, veg-oil       0.00      0.00      0.00         1\n",
      "                                                                    strategic-metal       0.00      0.00      0.00         4\n",
      "                                                                              sugar       0.78      0.78      0.78        27\n",
      "                                                                   sun-oil, veg-oil       0.00      0.00      0.00         1\n",
      "                                                                                tin       0.00      0.00      0.00         7\n",
      "                                                                              trade       0.34      0.94      0.50        63\n",
      "                                                                            veg-oil       0.00      0.00      0.00         9\n",
      "                                                                                wpi       0.00      0.00      0.00         7\n",
      "                                                                                yen       0.00      0.00      0.00         3\n",
      "                                                                               zinc       0.00      0.00      0.00         2\n",
      "\n",
      "                                                                           accuracy                           0.70      2158\n",
      "                                                                          macro avg       0.09      0.07      0.07      2158\n",
      "                                                                       weighted avg       0.65      0.70      0.64      2158\n",
      "\n"
     ]
    },
    {
     "name": "stderr",
     "output_type": "stream",
     "text": [
      "c:\\Users\\Livan\\OneDrive\\Masaüstü\\Work\\NLPProject\\nlp\\lib\\site-packages\\sklearn\\metrics\\_classification.py:1565: UndefinedMetricWarning: Precision is ill-defined and being set to 0.0 in labels with no predicted samples. Use `zero_division` parameter to control this behavior.\n",
      "  _warn_prf(average, modifier, f\"{metric.capitalize()} is\", len(result))\n",
      "c:\\Users\\Livan\\OneDrive\\Masaüstü\\Work\\NLPProject\\nlp\\lib\\site-packages\\sklearn\\metrics\\_classification.py:1565: UndefinedMetricWarning: Precision is ill-defined and being set to 0.0 in labels with no predicted samples. Use `zero_division` parameter to control this behavior.\n",
      "  _warn_prf(average, modifier, f\"{metric.capitalize()} is\", len(result))\n",
      "c:\\Users\\Livan\\OneDrive\\Masaüstü\\Work\\NLPProject\\nlp\\lib\\site-packages\\sklearn\\metrics\\_classification.py:1565: UndefinedMetricWarning: Precision is ill-defined and being set to 0.0 in labels with no predicted samples. Use `zero_division` parameter to control this behavior.\n",
      "  _warn_prf(average, modifier, f\"{metric.capitalize()} is\", len(result))\n"
     ]
    }
   ],
   "source": [
    "from sklearn.metrics import accuracy_score, classification_report\n",
    "\n",
    "accuracy = accuracy_score(y_test, y_pred)\n",
    "unique_labels = sorted(set(y_test))\n",
    "target_names = [label_encoder.classes_[i] for i in unique_labels]\n",
    "\n",
    "print(f\"\\nAccuracy: {accuracy:.4f}\")\n",
    "print(\"\\nClassification Report:\\n\", classification_report(y_test, y_pred, labels=unique_labels, target_names=target_names))\n"
   ]
  }
 ],
 "metadata": {
  "kernelspec": {
   "display_name": "nlp",
   "language": "python",
   "name": "python3"
  },
  "language_info": {
   "codemirror_mode": {
    "name": "ipython",
    "version": 3
   },
   "file_extension": ".py",
   "mimetype": "text/x-python",
   "name": "python",
   "nbconvert_exporter": "python",
   "pygments_lexer": "ipython3",
   "version": "3.10.11"
  }
 },
 "nbformat": 4,
 "nbformat_minor": 2
}
